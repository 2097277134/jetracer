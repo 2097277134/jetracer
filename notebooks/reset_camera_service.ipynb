{
 "cells": [
  {
   "cell_type": "markdown",
   "id": "developmental-branch",
   "metadata": {},
   "source": [
    "# Reset camera service"
   ]
  },
  {
   "cell_type": "markdown",
   "id": "cardiovascular-portrait",
   "metadata": {},
   "source": [
    "Run the following command to restart the camera service, in case you run into a trouble using the camera.\n"
   ]
  },
  {
   "cell_type": "code",
   "execution_count": 1,
   "id": "gorgeous-coach",
   "metadata": {
    "tags": []
   },
   "outputs": [
    {
     "name": "stdout",
     "output_type": "stream",
     "text": [
      "[sudo] password for jetson: "
     ]
    }
   ],
   "source": [
    "!sudo -S systemctl restart nvargus-daemon < /home/jetson/sudo_password"
   ]
  },
  {
   "cell_type": "code",
   "execution_count": null,
   "id": "incoming-exhibition",
   "metadata": {},
   "outputs": [],
   "source": []
  }
 ],
 "metadata": {
  "kernelspec": {
   "display_name": "Python 3",
   "language": "python",
   "name": "python3"
  },
  "language_info": {
   "codemirror_mode": {
    "name": "ipython",
    "version": 3
   },
   "file_extension": ".py",
   "mimetype": "text/x-python",
   "name": "python",
   "nbconvert_exporter": "python",
   "pygments_lexer": "ipython3",
   "version": "3.6.9"
  }
 },
 "nbformat": 4,
 "nbformat_minor": 5
}
